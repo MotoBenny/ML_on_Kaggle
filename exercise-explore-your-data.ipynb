{
 "cells": [
  {
   "cell_type": "markdown",
   "id": "c0e13d5f",
   "metadata": {
    "papermill": {
     "duration": 0.004457,
     "end_time": "2023-01-20T20:07:52.178015",
     "exception": false,
     "start_time": "2023-01-20T20:07:52.173558",
     "status": "completed"
    },
    "tags": []
   },
   "source": [
    "**[Machine Learning Course Home Page](https://www.kaggle.com/learn/machine-learning)**\n",
    "\n",
    "---\n"
   ]
  },
  {
   "cell_type": "markdown",
   "id": "22c94303",
   "metadata": {
    "papermill": {
     "duration": 0.002959,
     "end_time": "2023-01-20T20:07:52.184523",
     "exception": false,
     "start_time": "2023-01-20T20:07:52.181564",
     "status": "completed"
    },
    "tags": []
   },
   "source": [
    "This exercise will test your ability to read a data file and understand statistics about the data.\n",
    "\n",
    "In later exercises, you will apply techniques to filter the data, build a machine learning model, and iteratively improve your model.\n",
    "\n",
    "The course examples use data from Melbourne. To ensure you can apply these techniques on your own, you will have to apply them to a new dataset (with house prices from Iowa).\n",
    "\n",
    "The exercises use a \"notebook\" coding environment.  In case you are unfamiliar with notebooks, we have a [90-second intro video](https://www.youtube.com/watch?v=4C2qMnaIKL4).\n",
    "\n",
    "# Exercises\n",
    "\n",
    "Run the following cell to set up code-checking, which will verify your work as you go."
   ]
  },
  {
   "cell_type": "code",
   "execution_count": 1,
   "id": "d93aa731",
   "metadata": {
    "collapsed": true,
    "execution": {
     "iopub.execute_input": "2023-01-20T20:07:52.193281Z",
     "iopub.status.busy": "2023-01-20T20:07:52.192569Z",
     "iopub.status.idle": "2023-01-20T20:07:52.232825Z",
     "shell.execute_reply": "2023-01-20T20:07:52.231654Z"
    },
    "jupyter": {
     "outputs_hidden": true
    },
    "papermill": {
     "duration": 0.048583,
     "end_time": "2023-01-20T20:07:52.236351",
     "exception": false,
     "start_time": "2023-01-20T20:07:52.187768",
     "status": "completed"
    },
    "tags": []
   },
   "outputs": [
    {
     "name": "stdout",
     "output_type": "stream",
     "text": [
      "Setup Complete\n"
     ]
    }
   ],
   "source": [
    "# Set up code checking\n",
    "from learntools.core import binder\n",
    "binder.bind(globals())\n",
    "from learntools.machine_learning.ex2 import *\n",
    "print(\"Setup Complete\")"
   ]
  },
  {
   "cell_type": "markdown",
   "id": "1e9fc013",
   "metadata": {
    "papermill": {
     "duration": 0.003145,
     "end_time": "2023-01-20T20:07:52.245240",
     "exception": false,
     "start_time": "2023-01-20T20:07:52.242095",
     "status": "completed"
    },
    "tags": []
   },
   "source": [
    "## Step 1: Loading Data\n",
    "Read the Iowa data file into a Pandas DataFrame called `home_data`."
   ]
  },
  {
   "cell_type": "code",
   "execution_count": 2,
   "id": "71c1ef24",
   "metadata": {
    "collapsed": true,
    "execution": {
     "iopub.execute_input": "2023-01-20T20:07:52.254066Z",
     "iopub.status.busy": "2023-01-20T20:07:52.253642Z",
     "iopub.status.idle": "2023-01-20T20:07:52.265588Z",
     "shell.execute_reply": "2023-01-20T20:07:52.264413Z"
    },
    "jupyter": {
     "outputs_hidden": true
    },
    "papermill": {
     "duration": 0.019397,
     "end_time": "2023-01-20T20:07:52.268082",
     "exception": false,
     "start_time": "2023-01-20T20:07:52.248685",
     "status": "completed"
    },
    "tags": []
   },
   "outputs": [
    {
     "data": {
      "application/javascript": [
       "parent.postMessage({\"jupyterEvent\": \"custom.exercise_interaction\", \"data\": {\"outcomeType\": 4, \"interactionType\": 1, \"questionType\": 1, \"questionId\": \"1_LoadHomeData\", \"learnToolsVersion\": \"0.3.4\", \"valueTowardsCompletion\": 0.0, \"failureMessage\": \"\", \"exceptionClass\": \"\", \"trace\": \"\"}}, \"*\")"
      ],
      "text/plain": [
       "<IPython.core.display.Javascript object>"
      ]
     },
     "metadata": {},
     "output_type": "display_data"
    },
    {
     "data": {
      "text/markdown": [
       "<span style=\"color:#ccaa33\">Check:</span> When you've updated the starter code, `check()` will tell you whether your code is correct. You need to update the code that creates variable `home_data`"
      ],
      "text/plain": [
       "Check: When you've updated the starter code, `check()` will tell you whether your code is correct. You need to update the code that creates variable `home_data`"
      ]
     },
     "metadata": {},
     "output_type": "display_data"
    }
   ],
   "source": [
    "import pandas as pd\n",
    "\n",
    "# Path of the file to read\n",
    "iowa_file_path = '../input/home-data-for-ml-course/train.csv'\n",
    "\n",
    "# Fill in the line below to read the file into a variable home_data\n",
    "home_data = ____\n",
    "\n",
    "# Call line below with no argument to check that you've loaded the data correctly\n",
    "step_1.check()"
   ]
  },
  {
   "cell_type": "code",
   "execution_count": 3,
   "id": "70032398",
   "metadata": {
    "collapsed": true,
    "execution": {
     "iopub.execute_input": "2023-01-20T20:07:52.277922Z",
     "iopub.status.busy": "2023-01-20T20:07:52.277072Z",
     "iopub.status.idle": "2023-01-20T20:07:52.282845Z",
     "shell.execute_reply": "2023-01-20T20:07:52.281335Z"
    },
    "jupyter": {
     "outputs_hidden": true
    },
    "papermill": {
     "duration": 0.01358,
     "end_time": "2023-01-20T20:07:52.285502",
     "exception": false,
     "start_time": "2023-01-20T20:07:52.271922",
     "status": "completed"
    },
    "tags": []
   },
   "outputs": [],
   "source": [
    "# Lines below will give you a hint or solution code\n",
    "#step_1.hint()\n",
    "#step_1.solution()"
   ]
  },
  {
   "cell_type": "markdown",
   "id": "cc792558",
   "metadata": {
    "papermill": {
     "duration": 0.003401,
     "end_time": "2023-01-20T20:07:52.292833",
     "exception": false,
     "start_time": "2023-01-20T20:07:52.289432",
     "status": "completed"
    },
    "tags": []
   },
   "source": [
    "## Step 2: Review The Data\n",
    "Use the command you learned to view summary statistics of the data. Then fill in variables to answer the following questions"
   ]
  },
  {
   "cell_type": "code",
   "execution_count": 4,
   "id": "36ac6410",
   "metadata": {
    "collapsed": true,
    "execution": {
     "iopub.execute_input": "2023-01-20T20:07:52.302151Z",
     "iopub.status.busy": "2023-01-20T20:07:52.301722Z",
     "iopub.status.idle": "2023-01-20T20:07:52.309909Z",
     "shell.execute_reply": "2023-01-20T20:07:52.308599Z"
    },
    "jupyter": {
     "outputs_hidden": true
    },
    "papermill": {
     "duration": 0.015823,
     "end_time": "2023-01-20T20:07:52.312324",
     "exception": false,
     "start_time": "2023-01-20T20:07:52.296501",
     "status": "completed"
    },
    "tags": []
   },
   "outputs": [
    {
     "data": {
      "text/markdown": [],
      "text/plain": [
       "<learntools.core.constants.PlaceholderValue at 0x7f5fdfd5e310>"
      ]
     },
     "execution_count": 4,
     "metadata": {},
     "output_type": "execute_result"
    }
   ],
   "source": [
    "# Print summary statistics in next line\n",
    "____"
   ]
  },
  {
   "cell_type": "code",
   "execution_count": 5,
   "id": "9655d11e",
   "metadata": {
    "execution": {
     "iopub.execute_input": "2023-01-20T20:07:52.322813Z",
     "iopub.status.busy": "2023-01-20T20:07:52.322011Z",
     "iopub.status.idle": "2023-01-20T20:07:52.330597Z",
     "shell.execute_reply": "2023-01-20T20:07:52.329500Z"
    },
    "papermill": {
     "duration": 0.016243,
     "end_time": "2023-01-20T20:07:52.332727",
     "exception": false,
     "start_time": "2023-01-20T20:07:52.316484",
     "status": "completed"
    },
    "tags": []
   },
   "outputs": [
    {
     "data": {
      "application/javascript": [
       "parent.postMessage({\"jupyterEvent\": \"custom.exercise_interaction\", \"data\": {\"outcomeType\": 4, \"interactionType\": 1, \"questionType\": 1, \"questionId\": \"2_HomeDescription\", \"learnToolsVersion\": \"0.3.4\", \"valueTowardsCompletion\": 0.0, \"failureMessage\": \"\", \"exceptionClass\": \"\", \"trace\": \"\"}}, \"*\")"
      ],
      "text/plain": [
       "<IPython.core.display.Javascript object>"
      ]
     },
     "metadata": {},
     "output_type": "display_data"
    },
    {
     "data": {
      "text/markdown": [
       "<span style=\"color:#ccaa33\">Check:</span> When you've updated the starter code, `check()` will tell you whether your code is correct. You need to update the code that creates variables `avg_lot_size`, `newest_home_age`"
      ],
      "text/plain": [
       "Check: When you've updated the starter code, `check()` will tell you whether your code is correct. You need to update the code that creates variables `avg_lot_size`, `newest_home_age`"
      ]
     },
     "metadata": {},
     "output_type": "display_data"
    }
   ],
   "source": [
    "# What is the average lot size (rounded to nearest integer)?\n",
    "avg_lot_size = ____\n",
    "\n",
    "# As of today, how old is the newest home (current year - the date in which it was built)\n",
    "newest_home_age = ____\n",
    "\n",
    "# Checks your answers\n",
    "step_2.check()"
   ]
  },
  {
   "cell_type": "code",
   "execution_count": 6,
   "id": "9433f775",
   "metadata": {
    "collapsed": true,
    "execution": {
     "iopub.execute_input": "2023-01-20T20:07:52.342786Z",
     "iopub.status.busy": "2023-01-20T20:07:52.342348Z",
     "iopub.status.idle": "2023-01-20T20:07:52.347258Z",
     "shell.execute_reply": "2023-01-20T20:07:52.346068Z"
    },
    "jupyter": {
     "outputs_hidden": true
    },
    "papermill": {
     "duration": 0.012641,
     "end_time": "2023-01-20T20:07:52.349568",
     "exception": false,
     "start_time": "2023-01-20T20:07:52.336927",
     "status": "completed"
    },
    "tags": []
   },
   "outputs": [],
   "source": [
    "#step_2.hint()\n",
    "#step_2.solution()"
   ]
  },
  {
   "cell_type": "markdown",
   "id": "658b0059",
   "metadata": {
    "papermill": {
     "duration": 0.004085,
     "end_time": "2023-01-20T20:07:52.358003",
     "exception": false,
     "start_time": "2023-01-20T20:07:52.353918",
     "status": "completed"
    },
    "tags": []
   },
   "source": [
    "## Think About Your Data\n",
    "\n",
    "The newest house in your data isn't that new.  A few potential explanations for this:\n",
    "1. They haven't built new houses where this data was collected.\n",
    "1. The data was collected a long time ago. Houses built after the data publication wouldn't show up.\n",
    "\n",
    "If the reason is explanation #1 above, does that affect your trust in the model you build with this data? What about if it is reason #2?\n",
    "\n",
    "How could you dig into the data to see which explanation is more plausible?\n",
    "\n",
    "Check out this **[discussion thread](https://www.kaggle.com/learn-forum/60581)** to see what others think or to add your ideas.\n",
    "\n",
    "# Keep Going\n",
    "\n",
    "You are ready for **[Your First Machine Learning Model](https://www.kaggle.com/dansbecker/your-first-machine-learning-model).**\n"
   ]
  },
  {
   "cell_type": "markdown",
   "id": "e98cbec0",
   "metadata": {
    "papermill": {
     "duration": 0.003861,
     "end_time": "2023-01-20T20:07:52.366212",
     "exception": false,
     "start_time": "2023-01-20T20:07:52.362351",
     "status": "completed"
    },
    "tags": []
   },
   "source": [
    "---\n",
    "**[Machine Learning Course Home Page](https://www.kaggle.com/learn/machine-learning)**\n",
    "\n"
   ]
  }
 ],
 "metadata": {
  "kernelspec": {
   "display_name": "Python 3",
   "language": "python",
   "name": "python3"
  },
  "language_info": {
   "codemirror_mode": {
    "name": "ipython",
    "version": 3
   },
   "file_extension": ".py",
   "mimetype": "text/x-python",
   "name": "python",
   "nbconvert_exporter": "python",
   "pygments_lexer": "ipython3",
   "version": "3.7.12"
  },
  "papermill": {
   "default_parameters": {},
   "duration": 9.590477,
   "end_time": "2023-01-20T20:07:53.095578",
   "environment_variables": {},
   "exception": null,
   "input_path": "__notebook__.ipynb",
   "output_path": "__notebook__.ipynb",
   "parameters": {},
   "start_time": "2023-01-20T20:07:43.505101",
   "version": "2.3.4"
  }
 },
 "nbformat": 4,
 "nbformat_minor": 5
}
